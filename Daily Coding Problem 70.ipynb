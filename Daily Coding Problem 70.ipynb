{
 "cells": [
  {
   "cell_type": "markdown",
   "metadata": {},
   "source": [
    "# A number is considered perfect if its digits sum up to exactly 10.\n",
    "\n",
    "# Given a positive integer n, return the n-th perfect number.\n",
    "\n",
    "# For example, given 1, you should return 19. Given 2, you should return 28."
   ]
  },
  {
   "cell_type": "code",
   "execution_count": 71,
   "metadata": {},
   "outputs": [
    {
     "name": "stdout",
     "output_type": "stream",
     "text": [
      "19\n"
     ]
    }
   ],
   "source": [
    "def perfect_number(n):\n",
    "    \n",
    "    digits = [int(d) for d in str(n)] # split n into digits\n",
    "    \n",
    "    last_digit = 10 - sum(digits) # calculate difference btwn sum of digits and 10\n",
    "    \n",
    "    if sum(digits) <= 10: # checks if sum of digits is less than or equal to 10\n",
    "    \n",
    "        print(str(n) + str(last_digit))\n",
    "        \n",
    "    else: # if not then call on perfect_number again\n",
    "        perfect_number(n+1)\n",
    "\n",
    "perfect_number(1)\n"
   ]
  },
  {
   "cell_type": "code",
   "execution_count": null,
   "metadata": {},
   "outputs": [],
   "source": []
  }
 ],
 "metadata": {
  "kernelspec": {
   "display_name": "Python 3",
   "language": "python",
   "name": "python3"
  },
  "language_info": {
   "codemirror_mode": {
    "name": "ipython",
    "version": 3
   },
   "file_extension": ".py",
   "mimetype": "text/x-python",
   "name": "python",
   "nbconvert_exporter": "python",
   "pygments_lexer": "ipython3",
   "version": "3.7.1"
  }
 },
 "nbformat": 4,
 "nbformat_minor": 2
}
