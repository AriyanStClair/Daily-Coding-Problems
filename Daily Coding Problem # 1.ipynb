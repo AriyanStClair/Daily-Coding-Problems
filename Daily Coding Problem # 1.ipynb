{
 "cells": [
  {
   "cell_type": "markdown",
   "metadata": {},
   "source": [
    "# Given a list of numbers and a number k, return whether any two numbers from the list add up to k.  For example, given [10,15,3,7] and k of 17, return true since 10 + 7 is 17."
   ]
  },
  {
   "cell_type": "code",
   "execution_count": 31,
   "metadata": {},
   "outputs": [
    {
     "name": "stdout",
     "output_type": "stream",
     "text": [
      "10 20 30 40\n",
      "100\n"
     ]
    }
   ],
   "source": [
    "# get user input\n",
    "num = [int(x) for x in input().split()] \n",
    "k  = int(input())"
   ]
  },
  {
   "cell_type": "code",
   "execution_count": 32,
   "metadata": {},
   "outputs": [
    {
     "data": {
      "text/plain": [
       "False"
      ]
     },
     "execution_count": 32,
     "metadata": {},
     "output_type": "execute_result"
    }
   ],
   "source": [
    "def possible_sum(num,k):\n",
    "    i = 0\n",
    "    while(i < len(num)):\n",
    "        diff = k - num[i]\n",
    "        if diff in num:\n",
    "            return True\n",
    "            break\n",
    "        i = i + 1\n",
    "    return False\n",
    "\n",
    "possible_sum(num, k)"
   ]
  },
  {
   "cell_type": "code",
   "execution_count": null,
   "metadata": {},
   "outputs": [],
   "source": []
  }
 ],
 "metadata": {
  "kernelspec": {
   "display_name": "Python 3",
   "language": "python",
   "name": "python3"
  },
  "language_info": {
   "codemirror_mode": {
    "name": "ipython",
    "version": 3
   },
   "file_extension": ".py",
   "mimetype": "text/x-python",
   "name": "python",
   "nbconvert_exporter": "python",
   "pygments_lexer": "ipython3",
   "version": "3.7.1"
  }
 },
 "nbformat": 4,
 "nbformat_minor": 2
}
