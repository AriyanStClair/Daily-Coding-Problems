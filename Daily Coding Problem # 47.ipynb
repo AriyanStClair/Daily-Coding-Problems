{
 "cells": [
  {
   "cell_type": "markdown",
   "metadata": {},
   "source": [
    "# Given a array of numbers representing the stock prices of a company in chronological order, write a function that calculates the maximum profit you could have made from buying and selling that stock once. You must buy before you can sell it. For example, given [9, 11, 8, 5, 7, 10], you should return 5, since you could buy the stock at 5 dollars and sell it at 10 dollars."
   ]
  },
  {
   "cell_type": "code",
   "execution_count": 36,
   "metadata": {},
   "outputs": [],
   "source": [
    "def max_profit(stock_prices):\n",
    "    profit_arr = [] # array to store profit\n",
    "    \n",
    "    for i in range(0,len(stock_prices)-1): # iterates through the list\n",
    "        j = i + 1\n",
    "        while (j < len(stock_prices)): # iterates through list by increasing j\n",
    "            \n",
    "            # finds difference between elements of list and i\n",
    "            \n",
    "            profit = stock_prices[j] - stock_prices[i] \n",
    "            if profit > 0:\n",
    "                profit_arr.append(profit) # stores profit in array\n",
    "            j = j+1\n",
    "       \n",
    "    return max(profit_arr) # returns maximum of profit array\n"
   ]
  },
  {
   "cell_type": "code",
   "execution_count": 37,
   "metadata": {},
   "outputs": [
    {
     "data": {
      "text/plain": [
       "5"
      ]
     },
     "execution_count": 37,
     "metadata": {},
     "output_type": "execute_result"
    }
   ],
   "source": [
    "b = [9, 5, 8, 11, 7, 10]\n",
    "\n",
    "max_profit(b)"
   ]
  }
 ],
 "metadata": {
  "kernelspec": {
   "display_name": "Python 3",
   "language": "python",
   "name": "python3"
  },
  "language_info": {
   "codemirror_mode": {
    "name": "ipython",
    "version": 3
   },
   "file_extension": ".py",
   "mimetype": "text/x-python",
   "name": "python",
   "nbconvert_exporter": "python",
   "pygments_lexer": "ipython3",
   "version": "3.7.1"
  }
 },
 "nbformat": 4,
 "nbformat_minor": 2
}
