{
 "cells": [
  {
   "cell_type": "markdown",
   "metadata": {},
   "source": [
    "# A permutation can be specified by an array P, where P[i] represents the location of the element at i in the permutation. For example, [2, 1, 0] represents the permutation where elements at the index 0 and 2 are swapped.\n",
    "\n",
    "# Given an array and a permutation, apply the permutation to the array. For example, given the array [\"a\", \"b\", \"c\"] and the permutation [2, 1, 0], return [\"c\", \"b\", \"a\"]."
   ]
  },
  {
   "cell_type": "code",
   "execution_count": 26,
   "metadata": {},
   "outputs": [
    {
     "name": "stdout",
     "output_type": "stream",
     "text": [
      "['c', 'b', 'a']\n"
     ]
    }
   ],
   "source": [
    "def permute(arr,permutation):\n",
    "    permutation_dict = {} # dictionary to hold permutation \n",
    "    new_arr = []  # dictionary to hold new array\n",
    "    \n",
    "    for i in range(len(permutation)):\n",
    "        permutation_dict[i] = permutation[i]  # store corresponding permutation to index\n",
    "        \n",
    "        new_arr.append(arr[permutation_dict[i]]) # append new permutation to new_arr\n",
    "        \n",
    "    print(new_arr)\n",
    "        \n",
    "        \n",
    "permute(['a', 'b', 'c'], [2,1,0])   \n",
    "        "
   ]
  },
  {
   "cell_type": "code",
   "execution_count": null,
   "metadata": {},
   "outputs": [],
   "source": []
  }
 ],
 "metadata": {
  "kernelspec": {
   "display_name": "Python 3",
   "language": "python",
   "name": "python3"
  },
  "language_info": {
   "codemirror_mode": {
    "name": "ipython",
    "version": 3
   },
   "file_extension": ".py",
   "mimetype": "text/x-python",
   "name": "python",
   "nbconvert_exporter": "python",
   "pygments_lexer": "ipython3",
   "version": "3.7.1"
  }
 },
 "nbformat": 4,
 "nbformat_minor": 2
}
