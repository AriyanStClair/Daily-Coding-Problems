{
 "cells": [
  {
   "cell_type": "markdown",
   "metadata": {},
   "source": [
    "# Given an integer n, return the length of the longest consecutive run of 1s in its binary representation.\n",
    "\n",
    "# For example, given 156, you should return 3."
   ]
  },
  {
   "cell_type": "code",
   "execution_count": 65,
   "metadata": {},
   "outputs": [],
   "source": [
    "def longest_run(n):\n",
    "    binary_representation = bin(n) # convert n to binary\n",
    "    \n",
    "    bin_arr =  binary_representation.split('0b') # remove '0b' prefix\n",
    "    \n",
    "    bin_arr = bin_arr[1].split('0')     # split all zeros\n",
    "    \n",
    "    consecutive_runs = [] # to store length of consecutive runs of 1\n",
    "    \n",
    "    for run in bin_arr:  \n",
    "        if '1' in run:\n",
    "            consecutive_runs.append(len(run)) # append length of run\n",
    "    print(max(consecutive_runs))              # print longest run of 1s"
   ]
  },
  {
   "cell_type": "code",
   "execution_count": 68,
   "metadata": {},
   "outputs": [
    {
     "name": "stdout",
     "output_type": "stream",
     "text": [
      "3\n"
     ]
    }
   ],
   "source": [
    "longest_run(156)"
   ]
  },
  {
   "cell_type": "code",
   "execution_count": null,
   "metadata": {},
   "outputs": [],
   "source": []
  }
 ],
 "metadata": {
  "kernelspec": {
   "display_name": "Python 3",
   "language": "python",
   "name": "python3"
  },
  "language_info": {
   "codemirror_mode": {
    "name": "ipython",
    "version": 3
   },
   "file_extension": ".py",
   "mimetype": "text/x-python",
   "name": "python",
   "nbconvert_exporter": "python",
   "pygments_lexer": "ipython3",
   "version": "3.7.1"
  }
 },
 "nbformat": 4,
 "nbformat_minor": 2
}
