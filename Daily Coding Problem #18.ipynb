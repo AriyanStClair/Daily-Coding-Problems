{
 "cells": [
  {
   "cell_type": "markdown",
   "metadata": {},
   "source": [
    "# Given an array of integers and a number k, where 1 <= k <= length of the array, compute the maximum values of each subarray of length k. \n",
    "# For example, given array = [10, 5, 2, 7, 8, 7] and k = 3, we should get: [10, 7, 8, 8], since:\n",
    "\n",
    "# 10 = max(10, 5, 2)\n",
    "# 7 = max(5, 2, 7)\n",
    "# 8 = max(2, 7, 8)\n",
    "# 8 = max(7, 8, 7)"
   ]
  },
  {
   "cell_type": "code",
   "execution_count": 1,
   "metadata": {},
   "outputs": [
    {
     "name": "stdout",
     "output_type": "stream",
     "text": [
      "10 5 2 7 8 7\n",
      "3\n",
      "10= max([10, 5, 2])\n",
      "7= max([5, 2, 7])\n",
      "8= max([2, 7, 8])\n",
      "8= max([7, 8, 7])\n"
     ]
    }
   ],
   "source": [
    "arr = [int(x) for x in input().split()]\n",
    "k = int(input())\n",
    "\n",
    "for i in range(0,len(arr)-(k - 1)):\n",
    "    sub_arr = arr[i:i+k]\n",
    "    print(str(max(sub_arr)) + '= max(' + str(arr[i:i+k]) + ')')\n",
    "    \n",
    "\n"
   ]
  },
  {
   "cell_type": "code",
   "execution_count": null,
   "metadata": {},
   "outputs": [],
   "source": []
  }
 ],
 "metadata": {
  "kernelspec": {
   "display_name": "Python 3",
   "language": "python",
   "name": "python3"
  },
  "language_info": {
   "codemirror_mode": {
    "name": "ipython",
    "version": 3
   },
   "file_extension": ".py",
   "mimetype": "text/x-python",
   "name": "python",
   "nbconvert_exporter": "python",
   "pygments_lexer": "ipython3",
   "version": "3.7.1"
  }
 },
 "nbformat": 4,
 "nbformat_minor": 2
}
