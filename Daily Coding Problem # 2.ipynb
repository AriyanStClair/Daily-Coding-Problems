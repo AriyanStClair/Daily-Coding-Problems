{
 "cells": [
  {
   "cell_type": "markdown",
   "metadata": {},
   "source": [
    "# Given an array of integers, return a new array such that each element at index i of the new array is the product of all the numbers in the original array except the one at i. For example, if our input was [1, 2, 3, 4, 5], the expected output would be [120, 60, 40, 30, 24]. If our input was [3, 2, 1], the expected output would be [2, 3, 6]."
   ]
  },
  {
   "cell_type": "markdown",
   "metadata": {},
   "source": [
    "# Solution with Division:"
   ]
  },
  {
   "cell_type": "code",
   "execution_count": 31,
   "metadata": {},
   "outputs": [
    {
     "name": "stdout",
     "output_type": "stream",
     "text": [
      "1 2 3 4 5\n",
      "[120, 60, 40, 30, 24]\n"
     ]
    }
   ],
   "source": [
    "import numpy \n",
    "arr = [int(x) for x in input().split()]\n",
    "mult_arr = [] # array to store multiplications\n",
    "prod = numpy.prod(arr) # product of input array\n",
    "\n",
    "for i in range(0,len(arr)):\n",
    "    mult = int(prod/(arr[i]))\n",
    "    mult_arr.append(mult)\n",
    "\n",
    "print(mult_arr)\n"
   ]
  },
  {
   "cell_type": "markdown",
   "metadata": {},
   "source": [
    "# Solution without Division:\n"
   ]
  },
  {
   "cell_type": "code",
   "execution_count": 35,
   "metadata": {},
   "outputs": [
    {
     "name": "stdout",
     "output_type": "stream",
     "text": [
      "1 2 3 4 5\n",
      "[120, 60, 40, 30, 24]\n"
     ]
    }
   ],
   "source": [
    "import numpy \n",
    "arr = [int(x) for x in input().split()]\n",
    "mult_arr = [] # array to store multiplications\n",
    "\n",
    "for i in range(0,len(arr)):\n",
    "    if i == 0: # multiply every element in the list except the first\n",
    "        prod = numpy.prod(arr[1:len(arr)]) \n",
    "        mult_arr.append(prod)\n",
    "    else:\n",
    "        prod1 = numpy.prod(arr[:i]) # multiply every element before that element\n",
    "        prod2 = numpy.prod(arr[i+1:len(arr)]) # multiply every element after that element\n",
    "        prod = int(prod1 * prod2) \n",
    "        mult_arr.append(prod)\n",
    "        \n",
    "print(mult_arr)"
   ]
  },
  {
   "cell_type": "code",
   "execution_count": null,
   "metadata": {},
   "outputs": [],
   "source": []
  }
 ],
 "metadata": {
  "kernelspec": {
   "display_name": "Python 3",
   "language": "python",
   "name": "python3"
  },
  "language_info": {
   "codemirror_mode": {
    "name": "ipython",
    "version": 3
   },
   "file_extension": ".py",
   "mimetype": "text/x-python",
   "name": "python",
   "nbconvert_exporter": "python",
   "pygments_lexer": "ipython3",
   "version": "3.7.1"
  }
 },
 "nbformat": 4,
 "nbformat_minor": 2
}
